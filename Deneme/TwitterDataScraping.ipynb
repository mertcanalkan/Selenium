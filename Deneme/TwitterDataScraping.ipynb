{
 "cells": [
  {
   "cell_type": "code",
   "execution_count": 1,
   "id": "b3245225-ac7e-4613-94d3-63f88073147d",
   "metadata": {},
   "outputs": [],
   "source": [
    "from selenium import webdriver\n",
    "from selenium.webdriver.common.keys import Keys\n",
    "from time import sleep\n",
    "from selenium.webdriver.support.ui import WebDriverWait\n",
    "from selenium.webdriver.support import expected_conditions as EC\n",
    "from selenium.webdriver.common.by import By"
   ]
  },
  {
   "cell_type": "code",
   "execution_count": 2,
   "id": "495c4e3c-c802-45ba-8e8f-6b6f46309bd9",
   "metadata": {},
   "outputs": [],
   "source": [
    "geckodriver_path = r\"C:\\Users\\alkan\\OneDrive\\Masaüstü\\twitter\\driver\\geckodriver.exe\""
   ]
  },
  {
   "cell_type": "code",
   "execution_count": 227,
   "id": "ba86c97c-8677-450f-b177-63dec4d7c451",
   "metadata": {},
   "outputs": [],
   "source": [
    "driver = webdriver.Firefox()\n",
    "driver.get('https://twitter.com/login')"
   ]
  },
  {
   "cell_type": "code",
   "execution_count": 155,
   "id": "c03857fc-25f4-4445-8870-7cac55163f53",
   "metadata": {},
   "outputs": [],
   "source": [
    "UserNames = []\n",
    "Contents = []\n",
    "Replies = []\n",
    "Reposts = []\n",
    "Likes = []\n",
    "Bookmarks = []\n",
    "Views = []\n",
    "Dates = []\n",
    "IsBlue = []"
   ]
  },
  {
   "cell_type": "code",
   "execution_count": 218,
   "id": "8012c289-e8c3-4804-9f89-6848f0f015b8",
   "metadata": {},
   "outputs": [],
   "source": [
    "MyList = [Tweet_Urls, UserNames, Contents, Replies, Reposts, Likes, Bookmarks, Views, Dates, IsBlue]"
   ]
  },
  {
   "cell_type": "code",
   "execution_count": 247,
   "id": "ce70580e-c9f9-40b4-a2a6-419bc8895c17",
   "metadata": {},
   "outputs": [],
   "source": [
    "for sublist in MyList:\n",
    "    sublist.clear()"
   ]
  },
  {
   "cell_type": "code",
   "execution_count": 248,
   "id": "09731d9b-3c1b-4d19-a65c-6e4be1bd7a35",
   "metadata": {},
   "outputs": [
    {
     "name": "stdout",
     "output_type": "stream",
     "text": [
      "[[], [], [], [], [], [], [], [], [], []]\n"
     ]
    }
   ],
   "source": [
    "print(MyList)"
   ]
  },
  {
   "cell_type": "code",
   "execution_count": 4,
   "id": "762a8188-19f6-4e15-8219-b6a8177c049e",
   "metadata": {},
   "outputs": [
    {
     "ename": "WebDriverException",
     "evalue": "Message: Failed to write request to stream\n",
     "output_type": "error",
     "traceback": [
      "\u001b[1;31m---------------------------------------------------------------------------\u001b[0m",
      "\u001b[1;31mWebDriverException\u001b[0m                        Traceback (most recent call last)",
      "Cell \u001b[1;32mIn[4], line 6\u001b[0m\n\u001b[0;32m      2\u001b[0m current_tweet \u001b[38;5;241m=\u001b[39m \u001b[38;5;241m0\u001b[39m  \u001b[38;5;66;03m# İşlenen tweet sayısı\u001b[39;00m\n\u001b[0;32m      4\u001b[0m \u001b[38;5;28;01mwhile\u001b[39;00m current_tweet \u001b[38;5;241m<\u001b[39m max_tweets:\n\u001b[0;32m      5\u001b[0m     \u001b[38;5;66;03m# Anasayfadaki tüm tweetleri al\u001b[39;00m\n\u001b[1;32m----> 6\u001b[0m     articles \u001b[38;5;241m=\u001b[39m \u001b[43mWebDriverWait\u001b[49m\u001b[43m(\u001b[49m\u001b[43mdriver\u001b[49m\u001b[43m,\u001b[49m\u001b[43m \u001b[49m\u001b[38;5;241;43m10\u001b[39;49m\u001b[43m)\u001b[49m\u001b[38;5;241;43m.\u001b[39;49m\u001b[43muntil\u001b[49m\u001b[43m(\u001b[49m\n\u001b[0;32m      7\u001b[0m \u001b[43m        \u001b[49m\u001b[43mEC\u001b[49m\u001b[38;5;241;43m.\u001b[39;49m\u001b[43mvisibility_of_all_elements_located\u001b[49m\u001b[43m(\u001b[49m\u001b[43m(\u001b[49m\u001b[43mBy\u001b[49m\u001b[38;5;241;43m.\u001b[39;49m\u001b[43mXPATH\u001b[49m\u001b[43m,\u001b[49m\u001b[43m \u001b[49m\u001b[38;5;124;43m\"\u001b[39;49m\u001b[38;5;124;43m//article[@data-testid=\u001b[39;49m\u001b[38;5;124;43m'\u001b[39;49m\u001b[38;5;124;43mtweet\u001b[39;49m\u001b[38;5;124;43m'\u001b[39;49m\u001b[38;5;124;43m]\u001b[39;49m\u001b[38;5;124;43m\"\u001b[39;49m\u001b[43m)\u001b[49m\u001b[43m)\u001b[49m\u001b[43m)\u001b[49m\n\u001b[0;32m      9\u001b[0m     \u001b[38;5;66;03m# Her bir tweet için işlemleri yap\u001b[39;00m\n\u001b[0;32m     10\u001b[0m     \u001b[38;5;28;01mfor\u001b[39;00m article \u001b[38;5;129;01min\u001b[39;00m articles:\n",
      "File \u001b[1;32m~\\AppData\\Local\\Programs\\Python\\Python312\\Lib\\site-packages\\selenium\\webdriver\\support\\wait.py:96\u001b[0m, in \u001b[0;36mWebDriverWait.until\u001b[1;34m(self, method, message)\u001b[0m\n\u001b[0;32m     94\u001b[0m \u001b[38;5;28;01mwhile\u001b[39;00m \u001b[38;5;28;01mTrue\u001b[39;00m:\n\u001b[0;32m     95\u001b[0m     \u001b[38;5;28;01mtry\u001b[39;00m:\n\u001b[1;32m---> 96\u001b[0m         value \u001b[38;5;241m=\u001b[39m \u001b[43mmethod\u001b[49m\u001b[43m(\u001b[49m\u001b[38;5;28;43mself\u001b[39;49m\u001b[38;5;241;43m.\u001b[39;49m\u001b[43m_driver\u001b[49m\u001b[43m)\u001b[49m\n\u001b[0;32m     97\u001b[0m         \u001b[38;5;28;01mif\u001b[39;00m value:\n\u001b[0;32m     98\u001b[0m             \u001b[38;5;28;01mreturn\u001b[39;00m value\n",
      "File \u001b[1;32m~\\AppData\\Local\\Programs\\Python\\Python312\\Lib\\site-packages\\selenium\\webdriver\\support\\expected_conditions.py:223\u001b[0m, in \u001b[0;36mvisibility_of_all_elements_located.<locals>._predicate\u001b[1;34m(driver)\u001b[0m\n\u001b[0;32m    221\u001b[0m \u001b[38;5;28;01mdef\u001b[39;00m \u001b[38;5;21m_predicate\u001b[39m(driver: WebDriverOrWebElement):\n\u001b[0;32m    222\u001b[0m     \u001b[38;5;28;01mtry\u001b[39;00m:\n\u001b[1;32m--> 223\u001b[0m         elements \u001b[38;5;241m=\u001b[39m \u001b[43mdriver\u001b[49m\u001b[38;5;241;43m.\u001b[39;49m\u001b[43mfind_elements\u001b[49m\u001b[43m(\u001b[49m\u001b[38;5;241;43m*\u001b[39;49m\u001b[43mlocator\u001b[49m\u001b[43m)\u001b[49m\n\u001b[0;32m    224\u001b[0m         \u001b[38;5;28;01mfor\u001b[39;00m element \u001b[38;5;129;01min\u001b[39;00m elements:\n\u001b[0;32m    225\u001b[0m             \u001b[38;5;28;01mif\u001b[39;00m _element_if_visible(element, visibility\u001b[38;5;241m=\u001b[39m\u001b[38;5;28;01mFalse\u001b[39;00m):\n",
      "File \u001b[1;32m~\\AppData\\Local\\Programs\\Python\\Python312\\Lib\\site-packages\\selenium\\webdriver\\remote\\webdriver.py:771\u001b[0m, in \u001b[0;36mWebDriver.find_elements\u001b[1;34m(self, by, value)\u001b[0m\n\u001b[0;32m    767\u001b[0m     value \u001b[38;5;241m=\u001b[39m \u001b[38;5;124mf\u001b[39m\u001b[38;5;124m'\u001b[39m\u001b[38;5;124m[name=\u001b[39m\u001b[38;5;124m\"\u001b[39m\u001b[38;5;132;01m{\u001b[39;00mvalue\u001b[38;5;132;01m}\u001b[39;00m\u001b[38;5;124m\"\u001b[39m\u001b[38;5;124m]\u001b[39m\u001b[38;5;124m'\u001b[39m\n\u001b[0;32m    769\u001b[0m \u001b[38;5;66;03m# Return empty list if driver returns null\u001b[39;00m\n\u001b[0;32m    770\u001b[0m \u001b[38;5;66;03m# See https://github.com/SeleniumHQ/selenium/issues/4555\u001b[39;00m\n\u001b[1;32m--> 771\u001b[0m \u001b[38;5;28;01mreturn\u001b[39;00m \u001b[38;5;28;43mself\u001b[39;49m\u001b[38;5;241;43m.\u001b[39;49m\u001b[43mexecute\u001b[49m\u001b[43m(\u001b[49m\u001b[43mCommand\u001b[49m\u001b[38;5;241;43m.\u001b[39;49m\u001b[43mFIND_ELEMENTS\u001b[49m\u001b[43m,\u001b[49m\u001b[43m \u001b[49m\u001b[43m{\u001b[49m\u001b[38;5;124;43m\"\u001b[39;49m\u001b[38;5;124;43musing\u001b[39;49m\u001b[38;5;124;43m\"\u001b[39;49m\u001b[43m:\u001b[49m\u001b[43m \u001b[49m\u001b[43mby\u001b[49m\u001b[43m,\u001b[49m\u001b[43m \u001b[49m\u001b[38;5;124;43m\"\u001b[39;49m\u001b[38;5;124;43mvalue\u001b[39;49m\u001b[38;5;124;43m\"\u001b[39;49m\u001b[43m:\u001b[49m\u001b[43m \u001b[49m\u001b[43mvalue\u001b[49m\u001b[43m}\u001b[49m\u001b[43m)\u001b[49m[\u001b[38;5;124m\"\u001b[39m\u001b[38;5;124mvalue\u001b[39m\u001b[38;5;124m\"\u001b[39m] \u001b[38;5;129;01mor\u001b[39;00m []\n",
      "File \u001b[1;32m~\\AppData\\Local\\Programs\\Python\\Python312\\Lib\\site-packages\\selenium\\webdriver\\remote\\webdriver.py:347\u001b[0m, in \u001b[0;36mWebDriver.execute\u001b[1;34m(self, driver_command, params)\u001b[0m\n\u001b[0;32m    345\u001b[0m response \u001b[38;5;241m=\u001b[39m \u001b[38;5;28mself\u001b[39m\u001b[38;5;241m.\u001b[39mcommand_executor\u001b[38;5;241m.\u001b[39mexecute(driver_command, params)\n\u001b[0;32m    346\u001b[0m \u001b[38;5;28;01mif\u001b[39;00m response:\n\u001b[1;32m--> 347\u001b[0m     \u001b[38;5;28;43mself\u001b[39;49m\u001b[38;5;241;43m.\u001b[39;49m\u001b[43merror_handler\u001b[49m\u001b[38;5;241;43m.\u001b[39;49m\u001b[43mcheck_response\u001b[49m\u001b[43m(\u001b[49m\u001b[43mresponse\u001b[49m\u001b[43m)\u001b[49m\n\u001b[0;32m    348\u001b[0m     response[\u001b[38;5;124m\"\u001b[39m\u001b[38;5;124mvalue\u001b[39m\u001b[38;5;124m\"\u001b[39m] \u001b[38;5;241m=\u001b[39m \u001b[38;5;28mself\u001b[39m\u001b[38;5;241m.\u001b[39m_unwrap_value(response\u001b[38;5;241m.\u001b[39mget(\u001b[38;5;124m\"\u001b[39m\u001b[38;5;124mvalue\u001b[39m\u001b[38;5;124m\"\u001b[39m, \u001b[38;5;28;01mNone\u001b[39;00m))\n\u001b[0;32m    349\u001b[0m     \u001b[38;5;28;01mreturn\u001b[39;00m response\n",
      "File \u001b[1;32m~\\AppData\\Local\\Programs\\Python\\Python312\\Lib\\site-packages\\selenium\\webdriver\\remote\\errorhandler.py:229\u001b[0m, in \u001b[0;36mErrorHandler.check_response\u001b[1;34m(self, response)\u001b[0m\n\u001b[0;32m    227\u001b[0m         alert_text \u001b[38;5;241m=\u001b[39m value[\u001b[38;5;124m\"\u001b[39m\u001b[38;5;124malert\u001b[39m\u001b[38;5;124m\"\u001b[39m]\u001b[38;5;241m.\u001b[39mget(\u001b[38;5;124m\"\u001b[39m\u001b[38;5;124mtext\u001b[39m\u001b[38;5;124m\"\u001b[39m)\n\u001b[0;32m    228\u001b[0m     \u001b[38;5;28;01mraise\u001b[39;00m exception_class(message, screen, stacktrace, alert_text)  \u001b[38;5;66;03m# type: ignore[call-arg]  # mypy is not smart enough here\u001b[39;00m\n\u001b[1;32m--> 229\u001b[0m \u001b[38;5;28;01mraise\u001b[39;00m exception_class(message, screen, stacktrace)\n",
      "\u001b[1;31mWebDriverException\u001b[0m: Message: Failed to write request to stream\n"
     ]
    }
   ],
   "source": [
    "max_tweets = 10  # Alınacak maksimum tweet sayısı\n",
    "current_tweet = 0  # İşlenen tweet sayısı\n",
    "\n",
    "while current_tweet < max_tweets:\n",
    "    # Anasayfadaki tüm tweetleri al\n",
    "    articles = WebDriverWait(driver, 10).until(\n",
    "        EC.visibility_of_all_elements_located((By.XPATH, \"//article[@data-testid='tweet']\")))\n",
    "\n",
    "    # Her bir tweet için işlemleri yap\n",
    "    for article in articles:\n",
    "        tweet = WebDriverWait(driver, 10).until(\n",
    "            EC.visibility_of_element_located((By.XPATH, \"//div[@data-testid='tweetText']\")))\n",
    "        tweet.click()  # Her bir tweete tıkla\n",
    "        \n",
    "        # Tweet bilgilerini al\n",
    "        usernames_element = WebDriverWait(driver, 10).until(\n",
    "            EC.visibility_of_element_located((By.XPATH, \"//div[@data-testid='User-Name']\")))\n",
    "        usernames_text = usernames_element.text\n",
    "        username_split = usernames_text.split(\"\\n\")\n",
    "        UserNames.append(username_split[1])  # Kullanıcı adını ekle\n",
    "        \n",
    "        # Mavi hesap kontrolü\n",
    "        username_id = usernames_element.get_attribute(\"id\")\n",
    "        try:\n",
    "            blue = WebDriverWait(driver, 0.8).until(\n",
    "                EC.visibility_of_element_located((By.XPATH, f\"//div[@id='{username_id}']//span[@class='css-1qaijid r-bcqeeo r-qvutc0 r-poiln3 r-1awozwy r-xoduu5']\")))\n",
    "            IsBlue.append(True)  # Hesap mavi ise True değeri ekle\n",
    "        except:\n",
    "            IsBlue.append(False)  # Hesap mavi değilse False değeri ekle\n",
    "        \n",
    "        tweet_url = driver.current_url  # Tweet URL'sini al\n",
    "        Tweet_Urls.append(tweet_url)\n",
    "        \n",
    "        content = WebDriverWait(driver, 10).until(\n",
    "            EC.visibility_of_element_located((By.XPATH, \"//div[@data-testid='tweetText']\"))).text.replace('/n','')\n",
    "        Contents.append(content)  # İçeriği ekle\n",
    "        \n",
    "        group = WebDriverWait(driver, 10).until(\n",
    "            EC.visibility_of_element_located((By.XPATH, \"//div[@role='group']\")))\n",
    "        group_values = group.get_attribute(\"aria-label\")\n",
    "\n",
    "        metrics = group_values.split(\", \")\n",
    "        for metric in metrics:\n",
    "            count, metric_type = metric.split(\" \", 1)\n",
    "            count = int(count) \n",
    "            if metric_type == 'replies':\n",
    "                Replies.append(count)\n",
    "            elif metric_type == 'reposts':\n",
    "                Reposts.append(count)\n",
    "            elif metric_type == 'likes':\n",
    "                Likes.append(count)\n",
    "            elif metric_type == 'bookmarks':\n",
    "                Bookmarks.append(count)\n",
    "            elif metric_type == 'views':\n",
    "                Views.append(count) \n",
    "            \n",
    "        if not Replies:\n",
    "            Replies.append(0)\n",
    "        if not Reposts:\n",
    "            Reposts.append(0)\n",
    "        if not Likes:\n",
    "            Likes.append(0)\n",
    "        if not Bookmarks:\n",
    "            Bookmarks.append(0)\n",
    "        if not Views:\n",
    "            Views.append(0)\n",
    "        \n",
    "        time = WebDriverWait(driver, 10).until(\n",
    "            EC.visibility_of_element_located((By.XPATH, \"//time\"))).text\n",
    "        Dates.append(time)  # Tarih bilgisini ekle\n",
    "        \n",
    "        driver.back()  # Bir önceki sayfaya geri dön\n",
    "        sleep(1)  # Bir sonraki tweete geçmeden önce bir süre bekleyin\n",
    "        \n",
    "        current_tweet += 1  # İşlenen tweet sayısını artırın\n",
    "        \n",
    "        if current_tweet >= max_tweets:\n",
    "            break  # Maksimum tweet sayısına ulaşıldığında döngüyü sonlandır\n",
    "    \n",
    "    scroll_value = 500  # Kaydırılacak piksel miktarı\n",
    "    driver.execute_script(f\"window.scrollBy(0, {scroll_value});\")\n",
    "    sleep(1)  # Ekranın aşağı kaydırılmasından sonra bir süre bekleyin"
   ]
  },
  {
   "cell_type": "markdown",
   "id": "d022b6f9-a064-4f79-a1a6-6ae66564ff07",
   "metadata": {},
   "source": [
    "## Group sayılarına erişme"
   ]
  },
  {
   "cell_type": "code",
   "execution_count": 150,
   "id": "092517f5-b798-43ce-8f91-21d1fdb6d4c6",
   "metadata": {},
   "outputs": [],
   "source": [
    "group = WebDriverWait(driver, 10).until(\n",
    "    EC.visibility_of_element_located((By.XPATH, \"//div[@role = 'group']\")))\n",
    "group_values = group.get_attribute(\"aria-label\")\n",
    "\n",
    "\n",
    "metrics = group_values.split(\", \")\n",
    "for metric in metrics:\n",
    "    count, metric_type = metric.split(\" \", 1)\n",
    "    count = int(count) \n",
    "    if metric_type == 'replies':\n",
    "        Replies.append(count)\n",
    "    elif metric_type == 'reposts':\n",
    "        Reposts.append(count)\n",
    "    elif metric_type == 'likes':\n",
    "        Likes.append(count)\n",
    "    elif metric_type == 'bookmarks':\n",
    "        Bookmarks.append(count)\n",
    "    elif metric_type == 'views':\n",
    "        Views.append(count)\n",
    "\n",
    "if not Replies:\n",
    "    Replies.append(0)\n",
    "if not Reposts:\n",
    "    Reposts.append(0)\n",
    "if not Likes:\n",
    "    Likes.append(0)\n",
    "if not Bookmarks:\n",
    "    Bookmarks.append(0)\n",
    "if not Views:\n",
    "    Views.append(0)"
   ]
  },
  {
   "cell_type": "code",
   "execution_count": null,
   "id": "8c9acf92-5b41-420e-9b1a-23d75fe24277",
   "metadata": {},
   "outputs": [],
   "source": []
  }
 ],
 "metadata": {
  "kernelspec": {
   "display_name": "Python 3 (ipykernel)",
   "language": "python",
   "name": "python3"
  },
  "language_info": {
   "codemirror_mode": {
    "name": "ipython",
    "version": 3
   },
   "file_extension": ".py",
   "mimetype": "text/x-python",
   "name": "python",
   "nbconvert_exporter": "python",
   "pygments_lexer": "ipython3",
   "version": "3.12.1"
  }
 },
 "nbformat": 4,
 "nbformat_minor": 5
}
